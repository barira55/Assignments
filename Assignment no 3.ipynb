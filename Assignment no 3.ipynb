{
 "cells": [
  {
   "cell_type": "code",
   "execution_count": 1,
   "metadata": {},
   "outputs": [
    {
     "name": "stdout",
     "output_type": "stream",
     "text": [
      "Enter first number: 5\n",
      "Enter operator: -\n",
      "Enter second number: 4\n",
      "Final result is:  1\n"
     ]
    }
   ],
   "source": [
    "# Task 1 \n",
    "\n",
    "num1= int(input(\"Enter first number: \"))\n",
    "operator=input(\"Enter operator: \")\n",
    "num2= int(input(\"Enter second number: \"))\n",
    "if operator==\"+\":\n",
    "    result=num1+num2\n",
    "    print(\"Final result is: \",result)\n",
    "if operator==\"-\":\n",
    "    result=num1-num2\n",
    "    print(\"Final result is: \",result)\n",
    "if operator==\"*\":\n",
    "    result=num1*num2\n",
    "    print(\"Final result is: \",result)\n",
    "if operator==\"/\":\n",
    "    result=num1//num2\n",
    "    print(\"Final result is: \",result)\n",
    "if operator==\"**\":\n",
    "    result = num1 ** num2\n",
    "    print(\"Final result: \",result)"
   ]
  },
  {
   "cell_type": "code",
   "execution_count": 3,
   "metadata": {},
   "outputs": [
    {
     "name": "stdout",
     "output_type": "stream",
     "text": [
      "15 is Numeric\n",
      "115 is Numeric\n",
      "11 is Numeric\n",
      "2 is Numeric\n"
     ]
    }
   ],
   "source": [
    "#Task 2\n",
    "\n",
    "ls = [\"15\",\"115\",\"11\",\"barira145\",\"2\",\"ABC\"]\n",
    "for a in ls:\n",
    "    if a.isnumeric():\n",
    "        print(f'{a} is Numeric')\n",
    "       "
   ]
  },
  {
   "cell_type": "code",
   "execution_count": 4,
   "metadata": {},
   "outputs": [
    {
     "name": "stdout",
     "output_type": "stream",
     "text": [
      "{'Key': ''}\n"
     ]
    }
   ],
   "source": [
    "#Task 3\n",
    "\n",
    "Dictionary = {}\n",
    "Dictionary [\"Key\"]=\"\"\n",
    "print(Dictionary)\n"
   ]
  },
  {
   "cell_type": "code",
   "execution_count": 5,
   "metadata": {},
   "outputs": [
    {
     "name": "stdout",
     "output_type": "stream",
     "text": [
      "The sum of all numeric values of Dictionary is = 1435\n"
     ]
    }
   ],
   "source": [
    "#Task 4\n",
    "\n",
    "student = {\n",
    "    \"name\":\"Barira\",\n",
    "    \"class\":\"BS\",\n",
    "    \"sem1_marks\":\"385\", \n",
    "    \"sem2_marks\":\"310\", \n",
    "    \"sem3_marks\":\"350\", \n",
    "    \"sem4_marks\":\"390\"\n",
    "}\n",
    "sum = 0\n",
    "for i in student.values():\n",
    "    if i.isnumeric():\n",
    "        sum += int(i)\n",
    "        \n",
    "print(f'The sum of all numeric values of Dictionary is = {sum}')"
   ]
  },
  {
   "cell_type": "code",
   "execution_count": 5,
   "metadata": {},
   "outputs": [
    {
     "name": "stdout",
     "output_type": "stream",
     "text": [
      "Duplicate values are [2, 3, 6, 8, 9]\n",
      "Frequency of Duplication {1: 1, 2: 2, 3: 2, 4: 1, 5: 1, 6: 3, 7: 1, 8: 2, 9: 2}\n",
      "{1, 4, 5}\n"
     ]
    }
   ],
   "source": [
    "#Task 5\n",
    "\n",
    "checked = {}\n",
    "duplicate = []\n",
    "ls = [1,2,2,3,3,4,5,6,6,6,7,8,8,9,9]\n",
    "for i in ls:\n",
    "    if i not in checked:\n",
    "        checked[i] = 1\n",
    "    else:\n",
    "        if checked[i] == 1:\n",
    "            duplicate.append(i)\n",
    "        checked[i] +=1\n",
    "        \n",
    "print(f'Duplicate values are {duplicate}')\n",
    "print(f'Frequency of Duplication {checked}')\n",
    "\n",
    "l = [1,2,3,4,4,5,5,6,1]\n",
    "print(set([x for x in l if l.count(x) > 1]))"
   ]
  },
  {
   "cell_type": "code",
   "execution_count": 6,
   "metadata": {},
   "outputs": [
    {
     "name": "stdout",
     "output_type": "stream",
     "text": [
      "The key \"name\" is already existed with a value \"Barira\"\n"
     ]
    }
   ],
   "source": [
    "#Task 6\n",
    "\n",
    "student = {\n",
    "    \"name\":\"Barira\",\n",
    "    \"class\":\"BS\",\n",
    "    \"sem1_marks\":\"385\", \n",
    "    \"sem2_marks\":\"310\", \n",
    "    \"sem3_marks\":\"350\", \n",
    "    \"sem4_marks\":\"390\"\n",
    "}\n",
    "key = \"name\"\n",
    "if key in student.keys():\n",
    "    print(f'The key \"{key}\" is already existed with a value \"{student[key]}\"')"
   ]
  },
  {
   "cell_type": "code",
   "execution_count": null,
   "metadata": {},
   "outputs": [],
   "source": []
  }
 ],
 "metadata": {
  "kernelspec": {
   "display_name": "Python 3",
   "language": "python",
   "name": "python3"
  },
  "language_info": {
   "codemirror_mode": {
    "name": "ipython",
    "version": 3
   },
   "file_extension": ".py",
   "mimetype": "text/x-python",
   "name": "python",
   "nbconvert_exporter": "python",
   "pygments_lexer": "ipython3",
   "version": "3.7.4"
  }
 },
 "nbformat": 4,
 "nbformat_minor": 2
}
